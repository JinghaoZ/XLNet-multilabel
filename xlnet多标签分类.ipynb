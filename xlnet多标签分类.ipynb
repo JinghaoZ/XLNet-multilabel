{
 "cells": [
  {
   "cell_type": "markdown",
   "metadata": {},
   "source": [
    "# Multi-Label Text Classification with XLNet\n",
    "基于XLNet的多标签分类问题，原文地址： [https://towardsdatascience.com/multi-label-text-classification-with-xlnet-b5f5755302df](https://towardsdatascience.com/multi-label-text-classification-with-xlnet-b5f5755302df)."
   ]
  },
  {
   "cell_type": "markdown",
   "metadata": {},
   "source": [
    "在2019年六月发布之后，XLNet在NLP领域的18个任务中获得了SOTA的成就，甚至在20个任务中超过了BERT\n",
    "XLNet是由CMU和Google Brain联合发布的基于排序的自回归语言模型，已经有很多文章介绍过XLNet的详解，本文主要关注于如何使用XLNet进行多类型、多标签的文本分类。"
   ]
  },
  {
   "cell_type": "markdown",
   "metadata": {},
   "source": [
    "## Introduction\n",
    "在文本多分类(multi-class classification)问题中，一般有多个标签，但是每条数据只属于一种类型，然而，在多标签(multi-label)文本分类问题中，一条文本样本可以被赋予多个标签。我们将使用[Transformers](https://github.com/huggingface/transformers)项目来实现，它集成了BERT, XLNet, GPT-2, RoBERTa, CTRL,等诸多模型。<br>\n",
    "在此鸣谢[Kaushal Trivedi](https://medium.com/@kaushaltrivedi)，他提供了[基于BERT的多标签分类教程](https://medium.com/huggingface/multi-label-text-classification-using-bert-the-mighty-transformer-69714fa3fb3d)。<br>\n",
    "我们将使用Kaggle的[Toxic Comment Classification Challenge](https://www.kaggle.com/c/jigsaw-toxic-comment-classification-challenge/overview)，需要预测用户的评论属于六种恶意类型(toxic, severetoxic, obscene, threat, insult, identity hate)中的哪一种或几种。\n",
    "在此说明，XLNet有基础版和完整版两种：\n",
    "* XLNet Base: 12 layers, 768 hidden units, 12 attention heads, 110M parameters.\n",
    "* XLNet Large: 24 layers, 768 hidden units, 16 attention heads, 340M parameters  \n",
    "基于GPU的限制，训练中使用了小型的XLNet。根据迁移学习的概念，我们不会从0开始训练一个模型，而是在预训练的XLNet上进行微调（注：1.原文使用了Google Colab进行训练，这里我使用了公司的机器训练，因此代码上稍微做了修改；2.因为网络原因，我先下载好了预训练的模型，而非执行代码时下载）。"
   ]
  },
  {
   "cell_type": "markdown",
   "metadata": {},
   "source": [
    "## Code\n",
    "原文[代码](https://colab.research.google.com/drive/1o3cv-YSPGiKftCvFnCiMcygARqdaxrM7)"
   ]
  },
  {
   "cell_type": "markdown",
   "metadata": {},
   "source": [
    "首先要安装transformers"
   ]
  },
  {
   "cell_type": "code",
   "execution_count": 1,
   "metadata": {},
   "outputs": [],
   "source": [
    "# %pip install transformers"
   ]
  },
  {
   "cell_type": "markdown",
   "metadata": {},
   "source": [
    "导入必要的python模块"
   ]
  },
  {
   "cell_type": "code",
   "execution_count": 1,
   "metadata": {},
   "outputs": [
    {
     "name": "stderr",
     "output_type": "stream",
     "text": [
      "Using TensorFlow backend.\n"
     ]
    }
   ],
   "source": [
    "import os\n",
    "import math\n",
    "import numpy as np\n",
    "import pandas as pd\n",
    "import time\n",
    "\n",
    "import torch\n",
    "import torch.nn as nn\n",
    "from torch.nn import BCEWithLogitsLoss\n",
    "from torch.utils.data import TensorDataset, DataLoader, RandomSampler, SequentialSampler\n",
    "from transformers import AdamW, XLNetTokenizer, XLNetModel, XLNetLMHeadModel, XLNetConfig\n",
    "from keras.preprocessing.sequence import pad_sequences\n",
    "from sklearn.model_selection import train_test_split\n",
    "\n",
    "from tqdm import tqdm, trange\n",
    "import matplotlib.pyplot as plt\n",
    "%matplotlib inline"
   ]
  },
  {
   "cell_type": "code",
   "execution_count": 2,
   "metadata": {},
   "outputs": [],
   "source": [
    "os.environ[\"CUDA_DEVICE_ORDER\"] = \"PCI_BUS_ID\""
   ]
  },
  {
   "cell_type": "markdown",
   "metadata": {},
   "source": [
    "检查GPU是否可用"
   ]
  },
  {
   "cell_type": "code",
   "execution_count": 3,
   "metadata": {},
   "outputs": [
    {
     "name": "stdout",
     "output_type": "stream",
     "text": [
      "GPU Available: True\n",
      "Number of GPU Available: 4\n",
      "GPU: TITAN V\n"
     ]
    }
   ],
   "source": [
    "print(\"GPU Available: {}\".format(torch.cuda.is_available()))\n",
    "if torch.cuda.is_available():\n",
    "    n_gpu = torch.cuda.device_count()\n",
    "    print(\"Number of GPU Available: {}\".format(n_gpu))\n",
    "    print(\"GPU: {}\".format(torch.cuda.get_device_name(0)))"
   ]
  },
  {
   "cell_type": "code",
   "execution_count": 4,
   "metadata": {},
   "outputs": [],
   "source": [
    "# 将notebook挂在到google drive上，因为我没有使用google drive 因此注释掉\n",
    "# from google.colab import drive\n",
    "# drive.mount('/content/drive')"
   ]
  },
  {
   "cell_type": "markdown",
   "metadata": {},
   "source": [
    "导入数据并查看样本"
   ]
  },
  {
   "cell_type": "code",
   "execution_count": 5,
   "metadata": {},
   "outputs": [],
   "source": [
    "train = pd.read_csv(\"data/train.csv\")\n",
    "test = pd.read_csv(\"data/test.csv\")\n"
   ]
  },
  {
   "cell_type": "code",
   "execution_count": 6,
   "metadata": {},
   "outputs": [
    {
     "data": {
      "text/html": [
       "<div>\n",
       "<style scoped>\n",
       "    .dataframe tbody tr th:only-of-type {\n",
       "        vertical-align: middle;\n",
       "    }\n",
       "\n",
       "    .dataframe tbody tr th {\n",
       "        vertical-align: top;\n",
       "    }\n",
       "\n",
       "    .dataframe thead th {\n",
       "        text-align: right;\n",
       "    }\n",
       "</style>\n",
       "<table border=\"1\" class=\"dataframe\">\n",
       "  <thead>\n",
       "    <tr style=\"text-align: right;\">\n",
       "      <th></th>\n",
       "      <th>id</th>\n",
       "      <th>comment_text</th>\n",
       "      <th>toxic</th>\n",
       "      <th>severe_toxic</th>\n",
       "      <th>obscene</th>\n",
       "      <th>threat</th>\n",
       "      <th>insult</th>\n",
       "      <th>identity_hate</th>\n",
       "    </tr>\n",
       "  </thead>\n",
       "  <tbody>\n",
       "    <tr>\n",
       "      <th>0</th>\n",
       "      <td>0000997932d777bf</td>\n",
       "      <td>Explanation\\nWhy the edits made under my usern...</td>\n",
       "      <td>0</td>\n",
       "      <td>0</td>\n",
       "      <td>0</td>\n",
       "      <td>0</td>\n",
       "      <td>0</td>\n",
       "      <td>0</td>\n",
       "    </tr>\n",
       "    <tr>\n",
       "      <th>1</th>\n",
       "      <td>000103f0d9cfb60f</td>\n",
       "      <td>D'aww! He matches this background colour I'm s...</td>\n",
       "      <td>0</td>\n",
       "      <td>0</td>\n",
       "      <td>0</td>\n",
       "      <td>0</td>\n",
       "      <td>0</td>\n",
       "      <td>0</td>\n",
       "    </tr>\n",
       "    <tr>\n",
       "      <th>2</th>\n",
       "      <td>000113f07ec002fd</td>\n",
       "      <td>Hey man, I'm really not trying to edit war. It...</td>\n",
       "      <td>0</td>\n",
       "      <td>0</td>\n",
       "      <td>0</td>\n",
       "      <td>0</td>\n",
       "      <td>0</td>\n",
       "      <td>0</td>\n",
       "    </tr>\n",
       "    <tr>\n",
       "      <th>3</th>\n",
       "      <td>0001b41b1c6bb37e</td>\n",
       "      <td>\"\\nMore\\nI can't make any real suggestions on ...</td>\n",
       "      <td>0</td>\n",
       "      <td>0</td>\n",
       "      <td>0</td>\n",
       "      <td>0</td>\n",
       "      <td>0</td>\n",
       "      <td>0</td>\n",
       "    </tr>\n",
       "    <tr>\n",
       "      <th>4</th>\n",
       "      <td>0001d958c54c6e35</td>\n",
       "      <td>You, sir, are my hero. Any chance you remember...</td>\n",
       "      <td>0</td>\n",
       "      <td>0</td>\n",
       "      <td>0</td>\n",
       "      <td>0</td>\n",
       "      <td>0</td>\n",
       "      <td>0</td>\n",
       "    </tr>\n",
       "    <tr>\n",
       "      <th>5</th>\n",
       "      <td>00025465d4725e87</td>\n",
       "      <td>\"\\n\\nCongratulations from me as well, use the ...</td>\n",
       "      <td>0</td>\n",
       "      <td>0</td>\n",
       "      <td>0</td>\n",
       "      <td>0</td>\n",
       "      <td>0</td>\n",
       "      <td>0</td>\n",
       "    </tr>\n",
       "  </tbody>\n",
       "</table>\n",
       "</div>"
      ],
      "text/plain": [
       "                 id                                       comment_text  toxic  \\\n",
       "0  0000997932d777bf  Explanation\\nWhy the edits made under my usern...      0   \n",
       "1  000103f0d9cfb60f  D'aww! He matches this background colour I'm s...      0   \n",
       "2  000113f07ec002fd  Hey man, I'm really not trying to edit war. It...      0   \n",
       "3  0001b41b1c6bb37e  \"\\nMore\\nI can't make any real suggestions on ...      0   \n",
       "4  0001d958c54c6e35  You, sir, are my hero. Any chance you remember...      0   \n",
       "5  00025465d4725e87  \"\\n\\nCongratulations from me as well, use the ...      0   \n",
       "\n",
       "   severe_toxic  obscene  threat  insult  identity_hate  \n",
       "0             0        0       0       0              0  \n",
       "1             0        0       0       0              0  \n",
       "2             0        0       0       0              0  \n",
       "3             0        0       0       0              0  \n",
       "4             0        0       0       0              0  \n",
       "5             0        0       0       0              0  "
      ]
     },
     "execution_count": 6,
     "metadata": {},
     "output_type": "execute_result"
    }
   ],
   "source": [
    "train.head(6)"
   ]
  },
  {
   "cell_type": "code",
   "execution_count": 7,
   "metadata": {},
   "outputs": [
    {
     "data": {
      "text/html": [
       "<div>\n",
       "<style scoped>\n",
       "    .dataframe tbody tr th:only-of-type {\n",
       "        vertical-align: middle;\n",
       "    }\n",
       "\n",
       "    .dataframe tbody tr th {\n",
       "        vertical-align: top;\n",
       "    }\n",
       "\n",
       "    .dataframe thead th {\n",
       "        text-align: right;\n",
       "    }\n",
       "</style>\n",
       "<table border=\"1\" class=\"dataframe\">\n",
       "  <thead>\n",
       "    <tr style=\"text-align: right;\">\n",
       "      <th></th>\n",
       "      <th>toxic</th>\n",
       "      <th>severe_toxic</th>\n",
       "      <th>obscene</th>\n",
       "      <th>threat</th>\n",
       "      <th>insult</th>\n",
       "      <th>identity_hate</th>\n",
       "    </tr>\n",
       "  </thead>\n",
       "  <tbody>\n",
       "    <tr>\n",
       "      <th>count</th>\n",
       "      <td>159571</td>\n",
       "      <td>159571</td>\n",
       "      <td>159571</td>\n",
       "      <td>159571</td>\n",
       "      <td>159571</td>\n",
       "      <td>159571</td>\n",
       "    </tr>\n",
       "    <tr>\n",
       "      <th>unique</th>\n",
       "      <td>2</td>\n",
       "      <td>2</td>\n",
       "      <td>2</td>\n",
       "      <td>2</td>\n",
       "      <td>2</td>\n",
       "      <td>2</td>\n",
       "    </tr>\n",
       "    <tr>\n",
       "      <th>top</th>\n",
       "      <td>0</td>\n",
       "      <td>0</td>\n",
       "      <td>0</td>\n",
       "      <td>0</td>\n",
       "      <td>0</td>\n",
       "      <td>0</td>\n",
       "    </tr>\n",
       "    <tr>\n",
       "      <th>freq</th>\n",
       "      <td>144277</td>\n",
       "      <td>157976</td>\n",
       "      <td>151122</td>\n",
       "      <td>159093</td>\n",
       "      <td>151694</td>\n",
       "      <td>158166</td>\n",
       "    </tr>\n",
       "  </tbody>\n",
       "</table>\n",
       "</div>"
      ],
      "text/plain": [
       "         toxic  severe_toxic  obscene  threat  insult  identity_hate\n",
       "count   159571        159571   159571  159571  159571         159571\n",
       "unique       2             2        2       2       2              2\n",
       "top          0             0        0       0       0              0\n",
       "freq    144277        157976   151122  159093  151694         158166"
      ]
     },
     "execution_count": 7,
     "metadata": {},
     "output_type": "execute_result"
    }
   ],
   "source": [
    "label_cols = train.columns[-6:]\n",
    "train[label_cols].astype(\"category\").describe()"
   ]
  },
  {
   "cell_type": "markdown",
   "metadata": {},
   "source": [
    "让我们做一些快速的EDA。 分析标签的分布，我们注意到标签是不平衡的。"
   ]
  },
  {
   "cell_type": "code",
   "execution_count": 8,
   "metadata": {},
   "outputs": [
    {
     "name": "stderr",
     "output_type": "stream",
     "text": [
      "/home/lizhuoxuan/anaconda3/envs/jinghao/lib/python3.6/site-packages/ipykernel_launcher.py:2: UserWarning: To output multiple subplots, the figure containing the passed axes is being cleared\n",
      "  \n"
     ]
    },
    {
     "data": {
      "text/plain": [
       "array([[<AxesSubplot:title={'center':'identity_hate'}>,\n",
       "        <AxesSubplot:title={'center':'insult'}>],\n",
       "       [<AxesSubplot:title={'center':'obscene'}>,\n",
       "        <AxesSubplot:title={'center':'severe_toxic'}>],\n",
       "       [<AxesSubplot:title={'center':'threat'}>,\n",
       "        <AxesSubplot:title={'center':'toxic'}>]], dtype=object)"
      ]
     },
     "execution_count": 8,
     "metadata": {},
     "output_type": "execute_result"
    },
    {
     "data": {
      "image/png": "[encoded data removed]",
      "text/plain": [
       "<Figure size 1440x720 with 6 Axes>"
      ]
     },
     "metadata": {
      "needs_background": "light"
     },
     "output_type": "display_data"
    }
   ],
   "source": [
    "fig, ax = plt.subplots(figsize=(20, 10));\n",
    "train[label_cols].hist(ax=ax)"
   ]
  },
  {
   "cell_type": "markdown",
   "metadata": {},
   "source": [
    "在将数据送入模型之前，必须先将文档分词成子单词，我们使用transformers中的XLNetTokenizer功能进行实现。理论上XLNet Base可以处理长度为512的子单词序列，但是受制于GPU规模，以及为了缩短训练时间，我们将使用更短的序列。"
   ]
  },
  {
   "cell_type": "markdown",
   "metadata": {},
   "source": [
    "我们将分析每条评论包含sub-words个数的分布"
   ]
  },
  {
   "cell_type": "code",
   "execution_count": 9,
   "metadata": {},
   "outputs": [],
   "source": [
    "def plot_sentence_embeddings_length(text_list, tokenizer):\n",
    "    # 分词并统计长度\n",
    "    tokenized_texts = list(map(lambda t: tokenizer.tokenize(t), text_list))\n",
    "    tokenized_texts_len = list(map(lambda t:len(t), tokenized_texts))\n",
    "    # 绘图\n",
    "    fig, ax = plt.subplots(figsize=(8, 5))\n",
    "    ax.hist(tokenized_texts_len, bins=40)\n",
    "    ax.set_xlabel(\"Length of Comment Embeddings\")\n",
    "    ax.set_ylabel(\"Number of Comments\")\n",
    "    return"
   ]
  },
  {
   "cell_type": "code",
   "execution_count": 10,
   "metadata": {},
   "outputs": [
    {
     "data": {
      "image/png": "[encoded data removed]",
      "text/plain": [
       "<Figure size 576x360 with 1 Axes>"
      ]
     },
     "metadata": {
      "needs_background": "light"
     },
     "output_type": "display_data"
    },
    {
     "data": {
      "image/png": "[encoded data removed]",
      "text/plain": [
       "<Figure size 576x360 with 1 Axes>"
      ]
     },
     "metadata": {
      "needs_background": "light"
     },
     "output_type": "display_data"
    }
   ],
   "source": [
    "tokenizer = XLNetTokenizer.from_pretrained(\"model/transformers/xlnet-base-cased/\", do_lower_case=True)\n",
    "train_text_list = train[\"comment_text\"].values\n",
    "test_text_list = test[\"comment_text\"].values\n",
    "\n",
    "plot_sentence_embeddings_length(train_text_list, tokenizer)\n",
    "plot_sentence_embeddings_length(test_text_list, tokenizer)"
   ]
  },
  {
   "cell_type": "markdown",
   "metadata": {},
   "source": [
    "可以看到大多数文本都词数都少于256，因此设置序列长度为256 \n",
    "将输入的文本序列转化为合适的数字"
   ]
  },
  {
   "cell_type": "code",
   "execution_count": 11,
   "metadata": {},
   "outputs": [],
   "source": [
    "def tokenize_inputs(text_list, tokenizer, num_embedding=512):\n",
    "    \"\"\"\n",
    "    将文本转换为数字id，在文段的尾部添加结束标记，然后对文本进行截断或者填充\n",
    "    \"\"\"\n",
    "    # 分词，并且将序列截断，留出两个位置给特殊符号\n",
    "    tokenized_texts = list(map(lambda x: tokenizer.tokenize(x)[:num_embedding-2], text_list))\n",
    "    # 将分好的词转换为数字id\n",
    "    input_ids = [tokenizer.convert_tokens_to_ids(x) for x in tokenized_texts]\n",
    "    # 添加特殊符号<s>和</s>(开始和结束)到文本中\n",
    "    input_ids = [tokenizer.build_inputs_with_special_tokens(x) for x in input_ids]\n",
    "    # pad sequence\n",
    "    input_ids = pad_sequences(input_ids, maxlen=num_embedding, dtype=\"long\", truncating=\"post\", padding=\"post\")\n",
    "    return input_ids"
   ]
  },
  {
   "cell_type": "code",
   "execution_count": 12,
   "metadata": {},
   "outputs": [
    {
     "data": {
      "text/plain": [
       "(159571, 256)"
      ]
     },
     "execution_count": 12,
     "metadata": {},
     "output_type": "execute_result"
    }
   ],
   "source": [
    "train_input_ids = tokenize_inputs(train_text_list, tokenizer, num_embedding=256)\n",
    "train_input_ids.shape"
   ]
  },
  {
   "cell_type": "code",
   "execution_count": 13,
   "metadata": {},
   "outputs": [],
   "source": [
    "test_input_ids = tokenize_inputs(test_text_list, tokenizer, num_embedding=256)"
   ]
  },
  {
   "cell_type": "markdown",
   "metadata": {},
   "source": [
    "接下来我们将实现注意力机制的masks，这将指导模型关注特定的点。这一步的目的是防止我们的模型关注到padding的部分"
   ]
  },
  {
   "cell_type": "code",
   "execution_count": 14,
   "metadata": {},
   "outputs": [],
   "source": [
    "def create_attn_masks(input_ids):\n",
    "    \"\"\"\n",
    "    注意力机制，提醒模型该注意到哪些token\n",
    "    \"\"\"\n",
    "    # 构造masks\n",
    "    attention_masks = []\n",
    "    # 如果是单词转换成的数字id，mask置1，否则置0\n",
    "    for seq in input_ids:\n",
    "        seq_mask = [float(i>0) for i in seq]\n",
    "        attention_masks.append(seq_mask)\n",
    "    return attention_masks\n",
    "\n",
    "train_attention_masks = create_attn_masks(train_input_ids)\n",
    "test_attention_masks = create_attn_masks(test_input_ids)"
   ]
  },
  {
   "cell_type": "markdown",
   "metadata": {},
   "source": [
    "将分词后的数字id和注意力masks添加到dataframe中"
   ]
  },
  {
   "cell_type": "code",
   "execution_count": 15,
   "metadata": {},
   "outputs": [],
   "source": [
    "train[\"features\"] = train_input_ids.tolist()\n",
    "train[\"masks\"] = train_attention_masks\n",
    "\n",
    "test[\"features\"] = test_input_ids.tolist()\n",
    "test[\"masks\"] = test_attention_masks"
   ]
  },
  {
   "cell_type": "code",
   "execution_count": 16,
   "metadata": {},
   "outputs": [
    {
     "data": {
      "text/html": [
       "<div>\n",
       "<style scoped>\n",
       "    .dataframe tbody tr th:only-of-type {\n",
       "        vertical-align: middle;\n",
       "    }\n",
       "\n",
       "    .dataframe tbody tr th {\n",
       "        vertical-align: top;\n",
       "    }\n",
       "\n",
       "    .dataframe thead th {\n",
       "        text-align: right;\n",
       "    }\n",
       "</style>\n",
       "<table border=\"1\" class=\"dataframe\">\n",
       "  <thead>\n",
       "    <tr style=\"text-align: right;\">\n",
       "      <th></th>\n",
       "      <th>id</th>\n",
       "      <th>comment_text</th>\n",
       "      <th>toxic</th>\n",
       "      <th>severe_toxic</th>\n",
       "      <th>obscene</th>\n",
       "      <th>threat</th>\n",
       "      <th>insult</th>\n",
       "      <th>identity_hate</th>\n",
       "      <th>features</th>\n",
       "      <th>masks</th>\n",
       "    </tr>\n",
       "  </thead>\n",
       "  <tbody>\n",
       "    <tr>\n",
       "      <th>0</th>\n",
       "      <td>0000997932d777bf</td>\n",
       "      <td>Explanation\\nWhy the edits made under my usern...</td>\n",
       "      <td>0</td>\n",
       "      <td>0</td>\n",
       "      <td>0</td>\n",
       "      <td>0</td>\n",
       "      <td>0</td>\n",
       "      <td>0</td>\n",
       "      <td>[6267, 611, 18, 8619, 23, 140, 168, 94, 20413,...</td>\n",
       "      <td>[1.0, 1.0, 1.0, 1.0, 1.0, 1.0, 1.0, 1.0, 1.0, ...</td>\n",
       "    </tr>\n",
       "    <tr>\n",
       "      <th>1</th>\n",
       "      <td>000103f0d9cfb60f</td>\n",
       "      <td>D'aww! He matches this background colour I'm s...</td>\n",
       "      <td>0</td>\n",
       "      <td>0</td>\n",
       "      <td>0</td>\n",
       "      <td>0</td>\n",
       "      <td>0</td>\n",
       "      <td>0</td>\n",
       "      <td>[17, 66, 26, 3806, 694, 136, 43, 2466, 52, 300...</td>\n",
       "      <td>[1.0, 1.0, 1.0, 1.0, 1.0, 1.0, 1.0, 1.0, 1.0, ...</td>\n",
       "    </tr>\n",
       "    <tr>\n",
       "      <th>2</th>\n",
       "      <td>000113f07ec002fd</td>\n",
       "      <td>Hey man, I'm really not trying to edit war. It...</td>\n",
       "      <td>0</td>\n",
       "      <td>0</td>\n",
       "      <td>0</td>\n",
       "      <td>0</td>\n",
       "      <td>0</td>\n",
       "      <td>0</td>\n",
       "      <td>[43, 117, 326, 19, 17, 150, 26, 98, 343, 50, 6...</td>\n",
       "      <td>[1.0, 1.0, 1.0, 1.0, 1.0, 1.0, 1.0, 1.0, 1.0, ...</td>\n",
       "    </tr>\n",
       "  </tbody>\n",
       "</table>\n",
       "</div>"
      ],
      "text/plain": [
       "                 id                                       comment_text  toxic  \\\n",
       "0  0000997932d777bf  Explanation\\nWhy the edits made under my usern...      0   \n",
       "1  000103f0d9cfb60f  D'aww! He matches this background colour I'm s...      0   \n",
       "2  000113f07ec002fd  Hey man, I'm really not trying to edit war. It...      0   \n",
       "\n",
       "   severe_toxic  obscene  threat  insult  identity_hate  \\\n",
       "0             0        0       0       0              0   \n",
       "1             0        0       0       0              0   \n",
       "2             0        0       0       0              0   \n",
       "\n",
       "                                            features  \\\n",
       "0  [6267, 611, 18, 8619, 23, 140, 168, 94, 20413,...   \n",
       "1  [17, 66, 26, 3806, 694, 136, 43, 2466, 52, 300...   \n",
       "2  [43, 117, 326, 19, 17, 150, 26, 98, 343, 50, 6...   \n",
       "\n",
       "                                               masks  \n",
       "0  [1.0, 1.0, 1.0, 1.0, 1.0, 1.0, 1.0, 1.0, 1.0, ...  \n",
       "1  [1.0, 1.0, 1.0, 1.0, 1.0, 1.0, 1.0, 1.0, 1.0, ...  \n",
       "2  [1.0, 1.0, 1.0, 1.0, 1.0, 1.0, 1.0, 1.0, 1.0, ...  "
      ]
     },
     "execution_count": 16,
     "metadata": {},
     "output_type": "execute_result"
    }
   ],
   "source": [
    "train.head(3)"
   ]
  },
  {
   "cell_type": "code",
   "execution_count": 17,
   "metadata": {},
   "outputs": [
    {
     "data": {
      "text/html": [
       "<div>\n",
       "<style scoped>\n",
       "    .dataframe tbody tr th:only-of-type {\n",
       "        vertical-align: middle;\n",
       "    }\n",
       "\n",
       "    .dataframe tbody tr th {\n",
       "        vertical-align: top;\n",
       "    }\n",
       "\n",
       "    .dataframe thead th {\n",
       "        text-align: right;\n",
       "    }\n",
       "</style>\n",
       "<table border=\"1\" class=\"dataframe\">\n",
       "  <thead>\n",
       "    <tr style=\"text-align: right;\">\n",
       "      <th></th>\n",
       "      <th>id</th>\n",
       "      <th>comment_text</th>\n",
       "      <th>features</th>\n",
       "      <th>masks</th>\n",
       "    </tr>\n",
       "  </thead>\n",
       "  <tbody>\n",
       "    <tr>\n",
       "      <th>0</th>\n",
       "      <td>00001cee341fdb12</td>\n",
       "      <td>Yo bitch Ja Rule is more succesful then you'll...</td>\n",
       "      <td>[17, 4333, 15683, 17, 1653, 1614, 27, 70, 2718...</td>\n",
       "      <td>[1.0, 1.0, 1.0, 1.0, 1.0, 1.0, 1.0, 1.0, 1.0, ...</td>\n",
       "    </tr>\n",
       "    <tr>\n",
       "      <th>1</th>\n",
       "      <td>0000247867823ef7</td>\n",
       "      <td>== From RfC == \\n\\n The title is fine as it is...</td>\n",
       "      <td>[5847, 5383, 40, 17, 213, 722, 369, 5847, 5383...</td>\n",
       "      <td>[1.0, 1.0, 1.0, 1.0, 1.0, 1.0, 1.0, 1.0, 1.0, ...</td>\n",
       "    </tr>\n",
       "    <tr>\n",
       "      <th>2</th>\n",
       "      <td>00013b17ad220c46</td>\n",
       "      <td>\" \\n\\n == Sources == \\n\\n * Zawe Ashton on Lap...</td>\n",
       "      <td>[17, 12, 5847, 5383, 1675, 5847, 5383, 6940, 1...</td>\n",
       "      <td>[1.0, 1.0, 1.0, 1.0, 1.0, 1.0, 1.0, 1.0, 1.0, ...</td>\n",
       "    </tr>\n",
       "  </tbody>\n",
       "</table>\n",
       "</div>"
      ],
      "text/plain": [
       "                 id                                       comment_text  \\\n",
       "0  00001cee341fdb12  Yo bitch Ja Rule is more succesful then you'll...   \n",
       "1  0000247867823ef7  == From RfC == \\n\\n The title is fine as it is...   \n",
       "2  00013b17ad220c46  \" \\n\\n == Sources == \\n\\n * Zawe Ashton on Lap...   \n",
       "\n",
       "                                            features  \\\n",
       "0  [17, 4333, 15683, 17, 1653, 1614, 27, 70, 2718...   \n",
       "1  [5847, 5383, 40, 17, 213, 722, 369, 5847, 5383...   \n",
       "2  [17, 12, 5847, 5383, 1675, 5847, 5383, 6940, 1...   \n",
       "\n",
       "                                               masks  \n",
       "0  [1.0, 1.0, 1.0, 1.0, 1.0, 1.0, 1.0, 1.0, 1.0, ...  \n",
       "1  [1.0, 1.0, 1.0, 1.0, 1.0, 1.0, 1.0, 1.0, 1.0, ...  \n",
       "2  [1.0, 1.0, 1.0, 1.0, 1.0, 1.0, 1.0, 1.0, 1.0, ...  "
      ]
     },
     "execution_count": 17,
     "metadata": {},
     "output_type": "execute_result"
    }
   ],
   "source": [
    "test.head(3)"
   ]
  },
  {
   "cell_type": "markdown",
   "metadata": {},
   "source": [
    "从训练集中划分出一部分数据作为验证集"
   ]
  },
  {
   "cell_type": "code",
   "execution_count": 18,
   "metadata": {},
   "outputs": [],
   "source": [
    "train, valid = train_test_split(train, test_size=0.2, random_state=42)"
   ]
  },
  {
   "cell_type": "code",
   "execution_count": 19,
   "metadata": {},
   "outputs": [],
   "source": [
    "X_train = train[\"features\"].values.tolist()\n",
    "X_valid = valid[\"features\"].values.tolist()\n",
    "\n",
    "train_masks = train[\"masks\"].values.tolist()\n",
    "valid_masks = valid[\"masks\"].values.tolist()\n",
    "\n",
    "y_train = train[label_cols].values.tolist()\n",
    "y_valid = valid[label_cols].values.tolist()"
   ]
  },
  {
   "cell_type": "markdown",
   "metadata": {},
   "source": [
    "将特征，mask和标签转化为torch tensor"
   ]
  },
  {
   "cell_type": "code",
   "execution_count": 20,
   "metadata": {},
   "outputs": [],
   "source": [
    "# 将所有输入和masks,labels转换为torch tensor\n",
    "X_train_tensor = torch.tensor(X_train)\n",
    "X_valid_tensor = torch.tensor(X_valid)\n",
    "\n",
    "y_train_tensor = torch.tensor(y_train, dtype=torch.float32)\n",
    "y_valid_tensor = torch.tensor(y_valid, dtype=torch.float32)\n",
    "\n",
    "train_masks_tensor = torch.tensor(train_masks, dtype=torch.long)\n",
    "valid_masks_tensor = torch.tensor(valid_masks, dtype=torch.long)"
   ]
  },
  {
   "cell_type": "markdown",
   "metadata": {},
   "source": [
    "接下来为训练集和验证集构造`DataLoaders`，我们使用大小为32的batch。(如果GPU显存不足，则考虑更小的batch_size)"
   ]
  },
  {
   "cell_type": "code",
   "execution_count": 21,
   "metadata": {},
   "outputs": [],
   "source": [
    "# 使用DataLoader构造数据迭代器，能够节约内存\n",
    "# 因为迭代器不需要将数据一次加载到内存中，这点和for循环不同\n",
    "BATCH_SIZE = 20\n",
    "\n",
    "train_data = TensorDataset(X_train_tensor, train_masks_tensor, y_train_tensor)\n",
    "train_sampler = RandomSampler(train_data)\n",
    "train_dataloader = DataLoader(train_data, sampler=train_sampler, batch_size=BATCH_SIZE)\n",
    "\n",
    "valid_data = TensorDataset(X_valid_tensor, valid_masks_tensor, y_valid_tensor)\n",
    "valid_sampler = RandomSampler(valid_data)\n",
    "valid_dataloader = DataLoader(valid_data, sampler=valid_sampler, batch_size=BATCH_SIZE)"
   ]
  },
  {
   "cell_type": "markdown",
   "metadata": {},
   "source": [
    "接下来实现我们的XLNet分类模型"
   ]
  },
  {
   "cell_type": "code",
   "execution_count": 22,
   "metadata": {},
   "outputs": [],
   "source": [
    "class XLNetMultiLabel(nn.Module):\n",
    "    def __init__(self, num_labels=2):\n",
    "        super(XLNetMultiLabel, self).__init__()\n",
    "        self.num_labels = num_labels  # 总共有几种标签\n",
    "        self.xlnet = XLNetModel.from_pretrained(\"model/transformers/xlnet-base-cased/\")\n",
    "        self.classifier = torch.nn.Linear(768, num_labels)\n",
    "        \n",
    "        nn.init.xavier_normal_(self.classifier.weight)\n",
    "        \n",
    "    def pool_hidden_state(self, last_hidden_state):\n",
    "        # 将最后一个隐藏层的输出池化到一个单一均值向量中\n",
    "        last_hidden_state = last_hidden_state[0]\n",
    "        mean_last_hidden_state = torch.mean(last_hidden_state, 1)\n",
    "        return mean_last_hidden_state\n",
    "    \n",
    "    def set_trainable(self, is_trainable):\n",
    "        \"\"\"\n",
    "        设置是否更新模型参数\n",
    "        \"\"\"\n",
    "        for param in self.xlnet.parameters():\n",
    "            if is_trainable:\n",
    "                param.requires_grad = True\n",
    "            else:\n",
    "                param.requires_grad = False\n",
    "        \n",
    "    def forward(self, input_ids, attention_mask=None, token_type_ids=None, labels=None):\n",
    "        # 最后一个隐藏层\n",
    "        last_hidden_state = self.xlnet(input_ids=input_ids, \n",
    "                                       attention_mask=attention_mask, \n",
    "                                       token_type_ids=token_type_ids,\n",
    "                                      )\n",
    "        mean_last_hidden_state = self.pool_hidden_state(last_hidden_state)\n",
    "        logits = self.classifier(mean_last_hidden_state)\n",
    "        if labels is not None:\n",
    "            loss_fct = BCEWithLogitsLoss()\n",
    "            loss = loss_fct(\n",
    "                logits.view(-1, self.num_labels),\n",
    "                labels.view(-1, self.num_labels),\n",
    "            )\n",
    "            return loss\n",
    "        else:\n",
    "            return logits\n",
    "        \n",
    "    def freeze_xlnet_decoder(self):\n",
    "        \"\"\"\n",
    "        Freeze XLNet weight parameters. They will not be updated during training.\n",
    "        \"\"\"\n",
    "        for param in self.xlnet.parameters():\n",
    "            param.requires_grad = False\n",
    "    \n",
    "    def unfreeze_xlnet_decoder(self):\n",
    "        \"\"\"\n",
    "        Unfreeze XLNet weight parameters. They will be updated during training.\n",
    "        \"\"\"\n",
    "        for param in self.xlnet.parameters():\n",
    "            param.requires_grad = True"
   ]
  },
  {
   "cell_type": "code",
   "execution_count": 23,
   "metadata": {},
   "outputs": [],
   "source": [
    "model = XLNetMultiLabel(num_labels=len(y_train_tensor[0]))"
   ]
  },
  {
   "cell_type": "markdown",
   "metadata": {},
   "source": [
    "由于输入的序列长度为256，XLNet将会产生256个输出向量，每个向量的长度为768。因此我们对每个输出向量进行均值池化，然后生成一个维度为768的单一向量，这个向量将用来预测六种恶意评论标签。\n",
    "<div style=\"align: center\">\n",
    "    <img src=\"img/structure.jpeg\" width=\"300\" height=\"300\"/>\n",
    "</div>\n",
    "也可以使用其他的池化方法，或者将所有输出concatenate到一个大的单一向量中，或者直接使用XLNet的输出(last_hidden_state)。"
   ]
  },
  {
   "cell_type": "markdown",
   "metadata": {},
   "source": [
    "接下来，我们将初始化优化器，你也可以使用自适应的学习率(learning rate schedule)"
   ]
  },
  {
   "cell_type": "code",
   "execution_count": 24,
   "metadata": {},
   "outputs": [],
   "source": [
    "def train(model: XLNetMultiLabel, num_epochs, train_dataloader, valid_dataloader, model_save_path, \n",
    "          train_loss_set=[], valid_loss_set=[], lowest_eval_loss=None, start_epoch=0,\n",
    "          device=\"cpu\"):\n",
    "    \"\"\"\n",
    "    训练模型，并在验证集loss最低时保存模型\n",
    "    \"\"\"\n",
    "#     device = torch.device(device)\n",
    "    model.to(device)\n",
    "    optimizer = AdamW(model.parameters(), lr=2e-5, weight_decay=0.01, correct_bias=False)\n",
    "    step_count = 0\n",
    "    for i in trange(num_epochs, desc=\"Epoch\"):\n",
    "        print(time.asctime())\n",
    "        # trange 是 tqdm在python range外封装的进度条显示\n",
    "        \n",
    "        # 如果是从已经保存的模型中继续训练\n",
    "        actual_epoch = start_epoch + i\n",
    "        \n",
    "        model.train()\n",
    "        \n",
    "        tr_loss = 0\n",
    "        num_train_samples = 0\n",
    "        \n",
    "        for step, batch in enumerate(train_dataloader):\n",
    "            step_count += 1\n",
    "            # 将batch送入GPU\n",
    "            batch = tuple(t.to(device) for t in batch)\n",
    "            # 从dataloader中获得数据(unpack tuple)\n",
    "            b_inputs_ids, b_input_mask, b_labels = batch\n",
    "            # 清除梯度\n",
    "            optimizer.zero_grad()\n",
    "            # 前向传递\n",
    "            loss = model(b_inputs_ids, attention_mask=b_input_mask, labels=b_labels)\n",
    "            tr_loss += loss.item()\n",
    "            num_train_samples += b_labels.size(0)\n",
    "            # 反向传播\n",
    "            loss.backward()\n",
    "            # 使用计算得到的梯度来更新参数\n",
    "            optimizer.step()\n",
    "            if step_count % 1000 == 0:\n",
    "                print(f\"step: {step_count}, loss: {loss}\")\n",
    "        # 更新变量\n",
    "        epoch_train_loss = tr_loss / num_train_samples\n",
    "        train_loss_set.append(epoch_train_loss)\n",
    "        print(\"Train loss: {}\".format(epoch_train_loss))\n",
    "        \n",
    "        # Validation\n",
    "        # 计算模型在验证集上的loss\n",
    "        model.eval()\n",
    "        eva_loss = 0\n",
    "        num_eval_samples = 0\n",
    "        \n",
    "        for batch in valid_dataloader:\n",
    "            batch = tuple(t.to(device) for t in batch)\n",
    "            b_valid_ids, b_valid_mask, b_valid_labels = batch\n",
    "            # 不计算和存储梯度，以加速计算并节约内存\n",
    "            with torch.no_grad():\n",
    "                loss = model(b_valid_ids, attention_mask=b_valid_mask, labels=b_valid_labels)\n",
    "                eva_loss += loss.item()\n",
    "                num_eval_samples += b_valid_labels.size(0)\n",
    "        epoch_eval_loss = eva_loss / num_eval_samples\n",
    "        valid_loss_set.append(epoch_eval_loss)\n",
    "        print(\"Valid loss: {}\".format(epoch_eval_loss))\n",
    "        \n",
    "        # 保存模型\n",
    "        if lowest_eval_loss == None:\n",
    "            lowest_eval_loss = epoch_eval_loss\n",
    "            save_model(model=model, \n",
    "                       save_path=model_save_path, \n",
    "                       epochs=actual_epoch,\n",
    "                       lowest_eval_loss=lowest_eval_loss,\n",
    "                       train_loss_hist=train_loss_set,\n",
    "                       valid_loss_hist=valid_loss_set,\n",
    "                      )\n",
    "        print(\"\\n\")\n",
    "        return model, train_loss_set, valid_loss_set"
   ]
  },
  {
   "cell_type": "code",
   "execution_count": 25,
   "metadata": {},
   "outputs": [],
   "source": [
    "def save_model(model, save_path, epochs, lowest_eval_loss, train_loss_hist, valid_loss_hist):\n",
    "    \"\"\"\n",
    "    Save the model to the path directory provided\n",
    "    \"\"\"\n",
    "    model_to_save = model.module if hasattr(model, 'module') else model\n",
    "    checkpoint = {'epochs': epochs, \n",
    "                  'lowest_eval_loss': lowest_eval_loss, \n",
    "                  'state_dict': model_to_save.state_dict(), \n",
    "                  'train_loss_hist': train_loss_hist, \n",
    "                  'valid_loss_hist': valid_loss_hist\n",
    "                 }\n",
    "    torch.save(checkpoint, save_path)\n",
    "    print(\"Saving model at epoch {} with validation loss of {}\".format(epochs, lowest_eval_loss))\n",
    "\n",
    "def load_model(save_path):\n",
    "    \"\"\"\n",
    "    Load the model from the path directory provided\n",
    "    \"\"\"\n",
    "    checkpoint = torch.load(save_path)\n",
    "    model_state_dict = checkpoint['state_dict']\n",
    "    model = XLNetForMultiLabelSequenceClassification(num_labels=model_state_dict[\"classifier.weight\"].size()[0])\n",
    "    model.load_state_dict(model_state_dict)\n",
    "    \n",
    "    epochs = checkpoint.get(\"epochs\")\n",
    "    lowest_eval_loss = checkpoint.get(\"lowest_eval_loss\")\n",
    "    train_loss_hist = checkpoint.get(\"train_loss_hist\")\n",
    "    valid_loss_hist = checkpoint.get(\"valid_loss_hist\")\n",
    "    return model, epochs, lowest_eval_loss, train_loss_hist, valid_loss_hist"
   ]
  },
  {
   "cell_type": "code",
   "execution_count": 26,
   "metadata": {},
   "outputs": [],
   "source": [
    "num_epochs = 5\n",
    "cwd = os.getcwd()\n",
    "model_save_path = \"model/transformers/xlnet-comment/mulitlabel.bin\""
   ]
  },
  {
   "cell_type": "code",
   "execution_count": 27,
   "metadata": {},
   "outputs": [
    {
     "name": "stderr",
     "output_type": "stream",
     "text": [
      "Epoch:   0%|          | 0/5 [00:00<?, ?it/s]"
     ]
    },
    {
     "name": "stdout",
     "output_type": "stream",
     "text": [
      "Mon Jul 27 09:37:09 2020\n",
      "step: 1000, loss: 0.035142313688993454\n",
      "step: 2000, loss: 0.044857610017061234\n",
      "step: 3000, loss: 0.07852060347795486\n",
      "step: 4000, loss: 0.00665649538859725\n",
      "step: 5000, loss: 0.07515759021043777\n",
      "step: 6000, loss: 0.052490513771772385\n",
      "Train loss: 0.002353947195346081\n",
      "Valid loss: 0.0022566458366870515\n"
     ]
    },
    {
     "name": "stderr",
     "output_type": "stream",
     "text": [
      "Epoch:   0%|          | 0/5 [1:10:00<?, ?it/s]"
     ]
    },
    {
     "name": "stdout",
     "output_type": "stream",
     "text": [
      "Saving model at epoch 0 with validation loss of 0.0022566458366870515\n",
      "\n",
      "\n"
     ]
    },
    {
     "name": "stderr",
     "output_type": "stream",
     "text": [
      "\n"
     ]
    }
   ],
   "source": [
    "model, train_loss_set, valid_loss_set = train(model=model,\n",
    "                                              num_epochs=num_epochs,\n",
    "                                              train_dataloader=train_dataloader,\n",
    "                                              valid_dataloader=valid_dataloader,\n",
    "                                              model_save_path=model_save_path,\n",
    "                                              device=\"cuda:2\")"
   ]
  },
  {
   "cell_type": "markdown",
   "metadata": {},
   "source": [
    "模型训练完毕后，就可以对测试集进行预测了。如果我们想一次性预测所有测试样本，那么显存会不足，因此我们需要每次预测batch_size个样本，然后再将结果拼接。"
   ]
  },
  {
   "cell_type": "code",
   "execution_count": 28,
   "metadata": {},
   "outputs": [],
   "source": [
    "def prediction(model, test_frame, num_labels, device='cpu', batch_size=16):\n",
    "    num_iter = math.ceil(test_frame.shape[0] / batch_size)  # 计算batch数\n",
    "    pred_probs = np.array([]).reshape(0, num_labels)\n",
    "    model.to(device)\n",
    "    model.eval()\n",
    "    \n",
    "    for i in range(num_iter):\n",
    "        test_batch = test_frame.iloc[i*batch_size:(i+1)*batch_size, :]\n",
    "        X = test_batch[\"features\"].values.tolist()\n",
    "        masks = test_batch[\"masks\"].values.tolist()\n",
    "        X = torch.tensor(X)\n",
    "        masks = torch.tensor(X, dtype=torch.long)\n",
    "        \n",
    "        X = X.to(device)\n",
    "        masks = masks.to(device)\n",
    "        \n",
    "        with torch.no_grad():\n",
    "            logits = model.forward(input_ids=X, attention_mask=masks)\n",
    "            logits = logits.sigmoid().detach().cpu().numpy()\n",
    "            pred_probs = np.vstack([pred_probs, logits])\n",
    "    return pred_probs"
   ]
  },
  {
   "cell_type": "code",
   "execution_count": 29,
   "metadata": {},
   "outputs": [
    {
     "name": "stderr",
     "output_type": "stream",
     "text": [
      "/home/lizhuoxuan/anaconda3/envs/jinghao/lib/python3.6/site-packages/ipykernel_launcher.py:12: UserWarning: To copy construct from a tensor, it is recommended to use sourceTensor.clone().detach() or sourceTensor.clone().detach().requires_grad_(True), rather than torch.tensor(sourceTensor).\n",
      "  if sys.path[0] == '':\n"
     ]
    }
   ],
   "source": [
    "num_labels = len(label_cols)\n",
    "pred_probs = prediction(model, test, num_labels, device=\"cuda:2\", batch_size=16)"
   ]
  },
  {
   "cell_type": "code",
   "execution_count": 32,
   "metadata": {},
   "outputs": [
    {
     "data": {
      "text/plain": [
       "array([[1., 1., 1., 0., 1., 0.],\n",
       "       [0., 0., 0., 0., 0., 0.],\n",
       "       [0., 0., 0., 0., 0., 0.],\n",
       "       ...,\n",
       "       [0., 0., 0., 0., 0., 0.],\n",
       "       [0., 0., 0., 0., 0., 0.],\n",
       "       [1., 0., 1., 0., 1., 0.]])"
      ]
     },
     "execution_count": 32,
     "metadata": {},
     "output_type": "execute_result"
    }
   ],
   "source": [
    "np.round(pred_probs)"
   ]
  },
  {
   "cell_type": "code",
   "execution_count": 34,
   "metadata": {},
   "outputs": [
    {
     "data": {
      "text/html": [
       "<div>\n",
       "<style scoped>\n",
       "    .dataframe tbody tr th:only-of-type {\n",
       "        vertical-align: middle;\n",
       "    }\n",
       "\n",
       "    .dataframe tbody tr th {\n",
       "        vertical-align: top;\n",
       "    }\n",
       "\n",
       "    .dataframe thead th {\n",
       "        text-align: right;\n",
       "    }\n",
       "</style>\n",
       "<table border=\"1\" class=\"dataframe\">\n",
       "  <thead>\n",
       "    <tr style=\"text-align: right;\">\n",
       "      <th></th>\n",
       "      <th>id</th>\n",
       "      <th>comment_text</th>\n",
       "      <th>features</th>\n",
       "      <th>masks</th>\n",
       "    </tr>\n",
       "  </thead>\n",
       "  <tbody>\n",
       "    <tr>\n",
       "      <th>0</th>\n",
       "      <td>00001cee341fdb12</td>\n",
       "      <td>Yo bitch Ja Rule is more succesful then you'll...</td>\n",
       "      <td>[17, 4333, 15683, 17, 1653, 1614, 27, 70, 2718...</td>\n",
       "      <td>[1.0, 1.0, 1.0, 1.0, 1.0, 1.0, 1.0, 1.0, 1.0, ...</td>\n",
       "    </tr>\n",
       "    <tr>\n",
       "      <th>1</th>\n",
       "      <td>0000247867823ef7</td>\n",
       "      <td>== From RfC == \\n\\n The title is fine as it is...</td>\n",
       "      <td>[5847, 5383, 40, 17, 213, 722, 369, 5847, 5383...</td>\n",
       "      <td>[1.0, 1.0, 1.0, 1.0, 1.0, 1.0, 1.0, 1.0, 1.0, ...</td>\n",
       "    </tr>\n",
       "    <tr>\n",
       "      <th>2</th>\n",
       "      <td>00013b17ad220c46</td>\n",
       "      <td>\" \\n\\n == Sources == \\n\\n * Zawe Ashton on Lap...</td>\n",
       "      <td>[17, 12, 5847, 5383, 1675, 5847, 5383, 6940, 1...</td>\n",
       "      <td>[1.0, 1.0, 1.0, 1.0, 1.0, 1.0, 1.0, 1.0, 1.0, ...</td>\n",
       "    </tr>\n",
       "    <tr>\n",
       "      <th>3</th>\n",
       "      <td>00017563c3f7919a</td>\n",
       "      <td>:If you have a look back at the source, the in...</td>\n",
       "      <td>[17, 60, 1963, 44, 47, 24, 338, 126, 38, 18, 1...</td>\n",
       "      <td>[1.0, 1.0, 1.0, 1.0, 1.0, 1.0, 1.0, 1.0, 1.0, ...</td>\n",
       "    </tr>\n",
       "    <tr>\n",
       "      <th>4</th>\n",
       "      <td>00017695ad8997eb</td>\n",
       "      <td>I don't anonymously edit articles at all.</td>\n",
       "      <td>[17, 150, 220, 26, 46, 9502, 111, 8619, 2883, ...</td>\n",
       "      <td>[1.0, 1.0, 1.0, 1.0, 1.0, 1.0, 1.0, 1.0, 1.0, ...</td>\n",
       "    </tr>\n",
       "  </tbody>\n",
       "</table>\n",
       "</div>"
      ],
      "text/plain": [
       "                 id                                       comment_text  \\\n",
       "0  00001cee341fdb12  Yo bitch Ja Rule is more succesful then you'll...   \n",
       "1  0000247867823ef7  == From RfC == \\n\\n The title is fine as it is...   \n",
       "2  00013b17ad220c46  \" \\n\\n == Sources == \\n\\n * Zawe Ashton on Lap...   \n",
       "3  00017563c3f7919a  :If you have a look back at the source, the in...   \n",
       "4  00017695ad8997eb          I don't anonymously edit articles at all.   \n",
       "\n",
       "                                            features  \\\n",
       "0  [17, 4333, 15683, 17, 1653, 1614, 27, 70, 2718...   \n",
       "1  [5847, 5383, 40, 17, 213, 722, 369, 5847, 5383...   \n",
       "2  [17, 12, 5847, 5383, 1675, 5847, 5383, 6940, 1...   \n",
       "3  [17, 60, 1963, 44, 47, 24, 338, 126, 38, 18, 1...   \n",
       "4  [17, 150, 220, 26, 46, 9502, 111, 8619, 2883, ...   \n",
       "\n",
       "                                               masks  \n",
       "0  [1.0, 1.0, 1.0, 1.0, 1.0, 1.0, 1.0, 1.0, 1.0, ...  \n",
       "1  [1.0, 1.0, 1.0, 1.0, 1.0, 1.0, 1.0, 1.0, 1.0, ...  \n",
       "2  [1.0, 1.0, 1.0, 1.0, 1.0, 1.0, 1.0, 1.0, 1.0, ...  \n",
       "3  [1.0, 1.0, 1.0, 1.0, 1.0, 1.0, 1.0, 1.0, 1.0, ...  \n",
       "4  [1.0, 1.0, 1.0, 1.0, 1.0, 1.0, 1.0, 1.0, 1.0, ...  "
      ]
     },
     "execution_count": 34,
     "metadata": {},
     "output_type": "execute_result"
    }
   ],
   "source": [
    "test.head()"
   ]
  },
  {
   "cell_type": "code",
   "execution_count": 35,
   "metadata": {},
   "outputs": [
    {
     "data": {
      "text/plain": [
       "\"Yo bitch Ja Rule is more succesful then you'll ever be whats up with you and hating you sad mofuckas...i should bitch slap ur pethedic white faces and get you to kiss my ass you guys sicken me. Ja rule is about pride in da music man. dont diss that shit on him. and nothin is wrong bein like tupac he was a brother too...fuckin white boys get things right next time.,\""
      ]
     },
     "execution_count": 35,
     "metadata": {},
     "output_type": "execute_result"
    }
   ],
   "source": [
    "test.iloc[0].comment_text"
   ]
  },
  {
   "cell_type": "code",
   "execution_count": 36,
   "metadata": {},
   "outputs": [],
   "source": [
    "test_labels = pd.read_csv(\"data/test_labels.csv\")"
   ]
  },
  {
   "cell_type": "code",
   "execution_count": 48,
   "metadata": {},
   "outputs": [],
   "source": [
    "test_labels[label_cols] = pred_probs"
   ]
  },
  {
   "cell_type": "code",
   "execution_count": 49,
   "metadata": {},
   "outputs": [
    {
     "data": {
      "text/html": [
       "<div>\n",
       "<style scoped>\n",
       "    .dataframe tbody tr th:only-of-type {\n",
       "        vertical-align: middle;\n",
       "    }\n",
       "\n",
       "    .dataframe tbody tr th {\n",
       "        vertical-align: top;\n",
       "    }\n",
       "\n",
       "    .dataframe thead th {\n",
       "        text-align: right;\n",
       "    }\n",
       "</style>\n",
       "<table border=\"1\" class=\"dataframe\">\n",
       "  <thead>\n",
       "    <tr style=\"text-align: right;\">\n",
       "      <th></th>\n",
       "      <th>id</th>\n",
       "      <th>toxic</th>\n",
       "      <th>severe_toxic</th>\n",
       "      <th>obscene</th>\n",
       "      <th>threat</th>\n",
       "      <th>insult</th>\n",
       "      <th>identity_hate</th>\n",
       "    </tr>\n",
       "  </thead>\n",
       "  <tbody>\n",
       "    <tr>\n",
       "      <th>0</th>\n",
       "      <td>00001cee341fdb12</td>\n",
       "      <td>0.998909</td>\n",
       "      <td>0.517510</td>\n",
       "      <td>0.989272</td>\n",
       "      <td>0.011983</td>\n",
       "      <td>0.954833</td>\n",
       "      <td>0.403485</td>\n",
       "    </tr>\n",
       "    <tr>\n",
       "      <th>1</th>\n",
       "      <td>0000247867823ef7</td>\n",
       "      <td>0.001156</td>\n",
       "      <td>0.000006</td>\n",
       "      <td>0.000091</td>\n",
       "      <td>0.000014</td>\n",
       "      <td>0.000017</td>\n",
       "      <td>0.000015</td>\n",
       "    </tr>\n",
       "    <tr>\n",
       "      <th>2</th>\n",
       "      <td>00013b17ad220c46</td>\n",
       "      <td>0.000929</td>\n",
       "      <td>0.000006</td>\n",
       "      <td>0.000081</td>\n",
       "      <td>0.000011</td>\n",
       "      <td>0.000018</td>\n",
       "      <td>0.000014</td>\n",
       "    </tr>\n",
       "    <tr>\n",
       "      <th>3</th>\n",
       "      <td>00017563c3f7919a</td>\n",
       "      <td>0.000407</td>\n",
       "      <td>0.000003</td>\n",
       "      <td>0.000044</td>\n",
       "      <td>0.000005</td>\n",
       "      <td>0.000007</td>\n",
       "      <td>0.000005</td>\n",
       "    </tr>\n",
       "    <tr>\n",
       "      <th>4</th>\n",
       "      <td>00017695ad8997eb</td>\n",
       "      <td>0.003561</td>\n",
       "      <td>0.000012</td>\n",
       "      <td>0.000194</td>\n",
       "      <td>0.000034</td>\n",
       "      <td>0.000062</td>\n",
       "      <td>0.000026</td>\n",
       "    </tr>\n",
       "  </tbody>\n",
       "</table>\n",
       "</div>"
      ],
      "text/plain": [
       "                 id     toxic  severe_toxic   obscene    threat    insult  \\\n",
       "0  00001cee341fdb12  0.998909      0.517510  0.989272  0.011983  0.954833   \n",
       "1  0000247867823ef7  0.001156      0.000006  0.000091  0.000014  0.000017   \n",
       "2  00013b17ad220c46  0.000929      0.000006  0.000081  0.000011  0.000018   \n",
       "3  00017563c3f7919a  0.000407      0.000003  0.000044  0.000005  0.000007   \n",
       "4  00017695ad8997eb  0.003561      0.000012  0.000194  0.000034  0.000062   \n",
       "\n",
       "   identity_hate  \n",
       "0       0.403485  \n",
       "1       0.000015  \n",
       "2       0.000014  \n",
       "3       0.000005  \n",
       "4       0.000026  "
      ]
     },
     "execution_count": 49,
     "metadata": {},
     "output_type": "execute_result"
    }
   ],
   "source": [
    "test_labels.head()"
   ]
  },
  {
   "cell_type": "code",
   "execution_count": 51,
   "metadata": {},
   "outputs": [],
   "source": [
    "test_labels.to_csv(\"rst.csv\", index=False, encoding=\"utf-8-sig\")"
   ]
  },
  {
   "cell_type": "code",
   "execution_count": null,
   "metadata": {},
   "outputs": [],
   "source": []
  }
 ],
 "metadata": {
  "kernelspec": {
   "display_name": "jinghao",
   "language": "python",
   "name": "jinghao"
  },
  "language_info": {
   "codemirror_mode": {
    "name": "ipython",
    "version": 3
   },
   "file_extension": ".py",
   "mimetype": "text/x-python",
   "name": "python",
   "nbconvert_exporter": "python",
   "pygments_lexer": "ipython3",
   "version": "3.6.5"
  }
 },
 "nbformat": 4,
 "nbformat_minor": 4
}
